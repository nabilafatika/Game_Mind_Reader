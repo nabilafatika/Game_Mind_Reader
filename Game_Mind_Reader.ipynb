{
  "nbformat": 4,
  "nbformat_minor": 0,
  "metadata": {
    "colab": {
      "provenance": [],
      "authorship_tag": "ABX9TyO75IxZOxBGH8h6HwP0dBuo",
      "include_colab_link": true
    },
    "kernelspec": {
      "name": "python3",
      "display_name": "Python 3"
    },
    "language_info": {
      "name": "python"
    },
    "widgets": {
      "application/vnd.jupyter.widget-state+json": {
        "e235f2602ff74756a6aeac54d5fd64b2": {
          "model_module": "@jupyter-widgets/controls",
          "model_name": "HBoxModel",
          "model_module_version": "1.5.0",
          "state": {
            "_dom_classes": [],
            "_model_module": "@jupyter-widgets/controls",
            "_model_module_version": "1.5.0",
            "_model_name": "HBoxModel",
            "_view_count": null,
            "_view_module": "@jupyter-widgets/controls",
            "_view_module_version": "1.5.0",
            "_view_name": "HBoxView",
            "box_style": "",
            "children": [
              "IPY_MODEL_57a425013dd14b13a0f92538830b1e8d",
              "IPY_MODEL_c69704aef0f540f48f3e20d8d45bbbd6",
              "IPY_MODEL_d6b0dbf4ae1e48c0b23bfd58e2628a7e"
            ],
            "layout": "IPY_MODEL_2f9c68b90a3c412786eeabef162c6d33"
          }
        },
        "57a425013dd14b13a0f92538830b1e8d": {
          "model_module": "@jupyter-widgets/controls",
          "model_name": "ButtonModel",
          "model_module_version": "1.5.0",
          "state": {
            "_dom_classes": [],
            "_model_module": "@jupyter-widgets/controls",
            "_model_module_version": "1.5.0",
            "_model_name": "ButtonModel",
            "_view_count": null,
            "_view_module": "@jupyter-widgets/controls",
            "_view_module_version": "1.5.0",
            "_view_name": "ButtonView",
            "button_style": "",
            "description": "0",
            "disabled": false,
            "icon": "",
            "layout": "IPY_MODEL_cbb6858f07a041c381bebf1c92af6c17",
            "style": "IPY_MODEL_67fad190ab0b430ab75068f439605311",
            "tooltip": ""
          }
        },
        "c69704aef0f540f48f3e20d8d45bbbd6": {
          "model_module": "@jupyter-widgets/controls",
          "model_name": "ButtonModel",
          "model_module_version": "1.5.0",
          "state": {
            "_dom_classes": [],
            "_model_module": "@jupyter-widgets/controls",
            "_model_module_version": "1.5.0",
            "_model_name": "ButtonModel",
            "_view_count": null,
            "_view_module": "@jupyter-widgets/controls",
            "_view_module_version": "1.5.0",
            "_view_name": "ButtonView",
            "button_style": "",
            "description": "1",
            "disabled": false,
            "icon": "",
            "layout": "IPY_MODEL_2c1147db9e4c42bb979cd092148d4887",
            "style": "IPY_MODEL_d482f83f7ac648e2b5481fe189ee6468",
            "tooltip": ""
          }
        },
        "d6b0dbf4ae1e48c0b23bfd58e2628a7e": {
          "model_module": "@jupyter-widgets/controls",
          "model_name": "ButtonModel",
          "model_module_version": "1.5.0",
          "state": {
            "_dom_classes": [],
            "_model_module": "@jupyter-widgets/controls",
            "_model_module_version": "1.5.0",
            "_model_name": "ButtonModel",
            "_view_count": null,
            "_view_module": "@jupyter-widgets/controls",
            "_view_module_version": "1.5.0",
            "_view_name": "ButtonView",
            "button_style": "",
            "description": "Reset",
            "disabled": false,
            "icon": "",
            "layout": "IPY_MODEL_be5ed421bb1248a588953c91bb07d313",
            "style": "IPY_MODEL_f479e267b7454c8c813a0738d7c12982",
            "tooltip": ""
          }
        },
        "2f9c68b90a3c412786eeabef162c6d33": {
          "model_module": "@jupyter-widgets/base",
          "model_name": "LayoutModel",
          "model_module_version": "1.2.0",
          "state": {
            "_model_module": "@jupyter-widgets/base",
            "_model_module_version": "1.2.0",
            "_model_name": "LayoutModel",
            "_view_count": null,
            "_view_module": "@jupyter-widgets/base",
            "_view_module_version": "1.2.0",
            "_view_name": "LayoutView",
            "align_content": null,
            "align_items": null,
            "align_self": null,
            "border": null,
            "bottom": null,
            "display": null,
            "flex": null,
            "flex_flow": null,
            "grid_area": null,
            "grid_auto_columns": null,
            "grid_auto_flow": null,
            "grid_auto_rows": null,
            "grid_column": null,
            "grid_gap": null,
            "grid_row": null,
            "grid_template_areas": null,
            "grid_template_columns": null,
            "grid_template_rows": null,
            "height": null,
            "justify_content": null,
            "justify_items": null,
            "left": null,
            "margin": null,
            "max_height": null,
            "max_width": null,
            "min_height": null,
            "min_width": null,
            "object_fit": null,
            "object_position": null,
            "order": null,
            "overflow": null,
            "overflow_x": null,
            "overflow_y": null,
            "padding": null,
            "right": null,
            "top": null,
            "visibility": null,
            "width": null
          }
        },
        "cbb6858f07a041c381bebf1c92af6c17": {
          "model_module": "@jupyter-widgets/base",
          "model_name": "LayoutModel",
          "model_module_version": "1.2.0",
          "state": {
            "_model_module": "@jupyter-widgets/base",
            "_model_module_version": "1.2.0",
            "_model_name": "LayoutModel",
            "_view_count": null,
            "_view_module": "@jupyter-widgets/base",
            "_view_module_version": "1.2.0",
            "_view_name": "LayoutView",
            "align_content": null,
            "align_items": null,
            "align_self": null,
            "border": null,
            "bottom": null,
            "display": null,
            "flex": null,
            "flex_flow": null,
            "grid_area": null,
            "grid_auto_columns": null,
            "grid_auto_flow": null,
            "grid_auto_rows": null,
            "grid_column": null,
            "grid_gap": null,
            "grid_row": null,
            "grid_template_areas": null,
            "grid_template_columns": null,
            "grid_template_rows": null,
            "height": null,
            "justify_content": null,
            "justify_items": null,
            "left": null,
            "margin": null,
            "max_height": null,
            "max_width": null,
            "min_height": null,
            "min_width": null,
            "object_fit": null,
            "object_position": null,
            "order": null,
            "overflow": null,
            "overflow_x": null,
            "overflow_y": null,
            "padding": null,
            "right": null,
            "top": null,
            "visibility": null,
            "width": null
          }
        },
        "67fad190ab0b430ab75068f439605311": {
          "model_module": "@jupyter-widgets/controls",
          "model_name": "ButtonStyleModel",
          "model_module_version": "1.5.0",
          "state": {
            "_model_module": "@jupyter-widgets/controls",
            "_model_module_version": "1.5.0",
            "_model_name": "ButtonStyleModel",
            "_view_count": null,
            "_view_module": "@jupyter-widgets/base",
            "_view_module_version": "1.2.0",
            "_view_name": "StyleView",
            "button_color": null,
            "font_weight": ""
          }
        },
        "2c1147db9e4c42bb979cd092148d4887": {
          "model_module": "@jupyter-widgets/base",
          "model_name": "LayoutModel",
          "model_module_version": "1.2.0",
          "state": {
            "_model_module": "@jupyter-widgets/base",
            "_model_module_version": "1.2.0",
            "_model_name": "LayoutModel",
            "_view_count": null,
            "_view_module": "@jupyter-widgets/base",
            "_view_module_version": "1.2.0",
            "_view_name": "LayoutView",
            "align_content": null,
            "align_items": null,
            "align_self": null,
            "border": null,
            "bottom": null,
            "display": null,
            "flex": null,
            "flex_flow": null,
            "grid_area": null,
            "grid_auto_columns": null,
            "grid_auto_flow": null,
            "grid_auto_rows": null,
            "grid_column": null,
            "grid_gap": null,
            "grid_row": null,
            "grid_template_areas": null,
            "grid_template_columns": null,
            "grid_template_rows": null,
            "height": null,
            "justify_content": null,
            "justify_items": null,
            "left": null,
            "margin": null,
            "max_height": null,
            "max_width": null,
            "min_height": null,
            "min_width": null,
            "object_fit": null,
            "object_position": null,
            "order": null,
            "overflow": null,
            "overflow_x": null,
            "overflow_y": null,
            "padding": null,
            "right": null,
            "top": null,
            "visibility": null,
            "width": null
          }
        },
        "d482f83f7ac648e2b5481fe189ee6468": {
          "model_module": "@jupyter-widgets/controls",
          "model_name": "ButtonStyleModel",
          "model_module_version": "1.5.0",
          "state": {
            "_model_module": "@jupyter-widgets/controls",
            "_model_module_version": "1.5.0",
            "_model_name": "ButtonStyleModel",
            "_view_count": null,
            "_view_module": "@jupyter-widgets/base",
            "_view_module_version": "1.2.0",
            "_view_name": "StyleView",
            "button_color": null,
            "font_weight": ""
          }
        },
        "be5ed421bb1248a588953c91bb07d313": {
          "model_module": "@jupyter-widgets/base",
          "model_name": "LayoutModel",
          "model_module_version": "1.2.0",
          "state": {
            "_model_module": "@jupyter-widgets/base",
            "_model_module_version": "1.2.0",
            "_model_name": "LayoutModel",
            "_view_count": null,
            "_view_module": "@jupyter-widgets/base",
            "_view_module_version": "1.2.0",
            "_view_name": "LayoutView",
            "align_content": null,
            "align_items": null,
            "align_self": null,
            "border": null,
            "bottom": null,
            "display": null,
            "flex": null,
            "flex_flow": null,
            "grid_area": null,
            "grid_auto_columns": null,
            "grid_auto_flow": null,
            "grid_auto_rows": null,
            "grid_column": null,
            "grid_gap": null,
            "grid_row": null,
            "grid_template_areas": null,
            "grid_template_columns": null,
            "grid_template_rows": null,
            "height": null,
            "justify_content": null,
            "justify_items": null,
            "left": null,
            "margin": null,
            "max_height": null,
            "max_width": null,
            "min_height": null,
            "min_width": null,
            "object_fit": null,
            "object_position": null,
            "order": null,
            "overflow": null,
            "overflow_x": null,
            "overflow_y": null,
            "padding": null,
            "right": null,
            "top": null,
            "visibility": null,
            "width": null
          }
        },
        "f479e267b7454c8c813a0738d7c12982": {
          "model_module": "@jupyter-widgets/controls",
          "model_name": "ButtonStyleModel",
          "model_module_version": "1.5.0",
          "state": {
            "_model_module": "@jupyter-widgets/controls",
            "_model_module_version": "1.5.0",
            "_model_name": "ButtonStyleModel",
            "_view_count": null,
            "_view_module": "@jupyter-widgets/base",
            "_view_module_version": "1.2.0",
            "_view_name": "StyleView",
            "button_color": null,
            "font_weight": ""
          }
        },
        "a24386c56984465f9f1a2779fc7093f9": {
          "model_module": "@jupyter-widgets/controls",
          "model_name": "VBoxModel",
          "model_module_version": "1.5.0",
          "state": {
            "_dom_classes": [],
            "_model_module": "@jupyter-widgets/controls",
            "_model_module_version": "1.5.0",
            "_model_name": "VBoxModel",
            "_view_count": null,
            "_view_module": "@jupyter-widgets/controls",
            "_view_module_version": "1.5.0",
            "_view_name": "VBoxView",
            "box_style": "",
            "children": [
              "IPY_MODEL_db11b99510a3488b887e93d192eafd65",
              "IPY_MODEL_c700a280dddb4ea9b4abb112179ef184"
            ],
            "layout": "IPY_MODEL_2dcb895014f3457da7e90ec28e4acd10"
          }
        },
        "db11b99510a3488b887e93d192eafd65": {
          "model_module": "@jupyter-widgets/controls",
          "model_name": "IntProgressModel",
          "model_module_version": "1.5.0",
          "state": {
            "_dom_classes": [],
            "_model_module": "@jupyter-widgets/controls",
            "_model_module_version": "1.5.0",
            "_model_name": "IntProgressModel",
            "_view_count": null,
            "_view_module": "@jupyter-widgets/controls",
            "_view_module_version": "1.5.0",
            "_view_name": "ProgressView",
            "bar_style": "success",
            "description": "me:",
            "description_tooltip": null,
            "layout": "IPY_MODEL_623f3a8d9fe444d99f35645d2b2e3938",
            "max": 5,
            "min": 0,
            "orientation": "horizontal",
            "style": "IPY_MODEL_bb46be1fdcb343eeb2635d4b2ca367c1",
            "value": 0
          }
        },
        "c700a280dddb4ea9b4abb112179ef184": {
          "model_module": "@jupyter-widgets/controls",
          "model_name": "IntProgressModel",
          "model_module_version": "1.5.0",
          "state": {
            "_dom_classes": [],
            "_model_module": "@jupyter-widgets/controls",
            "_model_module_version": "1.5.0",
            "_model_name": "IntProgressModel",
            "_view_count": null,
            "_view_module": "@jupyter-widgets/controls",
            "_view_module_version": "1.5.0",
            "_view_name": "ProgressView",
            "bar_style": "danger",
            "description": "bot:",
            "description_tooltip": null,
            "layout": "IPY_MODEL_150191c2b07444abba8eaaa413d1a84b",
            "max": 5,
            "min": 0,
            "orientation": "horizontal",
            "style": "IPY_MODEL_d2e7b8f5976340d5a7374d85889b79b7",
            "value": 0
          }
        },
        "2dcb895014f3457da7e90ec28e4acd10": {
          "model_module": "@jupyter-widgets/base",
          "model_name": "LayoutModel",
          "model_module_version": "1.2.0",
          "state": {
            "_model_module": "@jupyter-widgets/base",
            "_model_module_version": "1.2.0",
            "_model_name": "LayoutModel",
            "_view_count": null,
            "_view_module": "@jupyter-widgets/base",
            "_view_module_version": "1.2.0",
            "_view_name": "LayoutView",
            "align_content": null,
            "align_items": null,
            "align_self": null,
            "border": null,
            "bottom": null,
            "display": null,
            "flex": null,
            "flex_flow": null,
            "grid_area": null,
            "grid_auto_columns": null,
            "grid_auto_flow": null,
            "grid_auto_rows": null,
            "grid_column": null,
            "grid_gap": null,
            "grid_row": null,
            "grid_template_areas": null,
            "grid_template_columns": null,
            "grid_template_rows": null,
            "height": null,
            "justify_content": null,
            "justify_items": null,
            "left": null,
            "margin": null,
            "max_height": null,
            "max_width": null,
            "min_height": null,
            "min_width": null,
            "object_fit": null,
            "object_position": null,
            "order": null,
            "overflow": null,
            "overflow_x": null,
            "overflow_y": null,
            "padding": null,
            "right": null,
            "top": null,
            "visibility": null,
            "width": null
          }
        },
        "623f3a8d9fe444d99f35645d2b2e3938": {
          "model_module": "@jupyter-widgets/base",
          "model_name": "LayoutModel",
          "model_module_version": "1.2.0",
          "state": {
            "_model_module": "@jupyter-widgets/base",
            "_model_module_version": "1.2.0",
            "_model_name": "LayoutModel",
            "_view_count": null,
            "_view_module": "@jupyter-widgets/base",
            "_view_module_version": "1.2.0",
            "_view_name": "LayoutView",
            "align_content": null,
            "align_items": null,
            "align_self": null,
            "border": null,
            "bottom": null,
            "display": null,
            "flex": null,
            "flex_flow": null,
            "grid_area": null,
            "grid_auto_columns": null,
            "grid_auto_flow": null,
            "grid_auto_rows": null,
            "grid_column": null,
            "grid_gap": null,
            "grid_row": null,
            "grid_template_areas": null,
            "grid_template_columns": null,
            "grid_template_rows": null,
            "height": null,
            "justify_content": null,
            "justify_items": null,
            "left": null,
            "margin": null,
            "max_height": null,
            "max_width": null,
            "min_height": null,
            "min_width": null,
            "object_fit": null,
            "object_position": null,
            "order": null,
            "overflow": null,
            "overflow_x": null,
            "overflow_y": null,
            "padding": null,
            "right": null,
            "top": null,
            "visibility": null,
            "width": null
          }
        },
        "bb46be1fdcb343eeb2635d4b2ca367c1": {
          "model_module": "@jupyter-widgets/controls",
          "model_name": "ProgressStyleModel",
          "model_module_version": "1.5.0",
          "state": {
            "_model_module": "@jupyter-widgets/controls",
            "_model_module_version": "1.5.0",
            "_model_name": "ProgressStyleModel",
            "_view_count": null,
            "_view_module": "@jupyter-widgets/base",
            "_view_module_version": "1.2.0",
            "_view_name": "StyleView",
            "bar_color": null,
            "description_width": ""
          }
        },
        "150191c2b07444abba8eaaa413d1a84b": {
          "model_module": "@jupyter-widgets/base",
          "model_name": "LayoutModel",
          "model_module_version": "1.2.0",
          "state": {
            "_model_module": "@jupyter-widgets/base",
            "_model_module_version": "1.2.0",
            "_model_name": "LayoutModel",
            "_view_count": null,
            "_view_module": "@jupyter-widgets/base",
            "_view_module_version": "1.2.0",
            "_view_name": "LayoutView",
            "align_content": null,
            "align_items": null,
            "align_self": null,
            "border": null,
            "bottom": null,
            "display": null,
            "flex": null,
            "flex_flow": null,
            "grid_area": null,
            "grid_auto_columns": null,
            "grid_auto_flow": null,
            "grid_auto_rows": null,
            "grid_column": null,
            "grid_gap": null,
            "grid_row": null,
            "grid_template_areas": null,
            "grid_template_columns": null,
            "grid_template_rows": null,
            "height": null,
            "justify_content": null,
            "justify_items": null,
            "left": null,
            "margin": null,
            "max_height": null,
            "max_width": null,
            "min_height": null,
            "min_width": null,
            "object_fit": null,
            "object_position": null,
            "order": null,
            "overflow": null,
            "overflow_x": null,
            "overflow_y": null,
            "padding": null,
            "right": null,
            "top": null,
            "visibility": null,
            "width": null
          }
        },
        "d2e7b8f5976340d5a7374d85889b79b7": {
          "model_module": "@jupyter-widgets/controls",
          "model_name": "ProgressStyleModel",
          "model_module_version": "1.5.0",
          "state": {
            "_model_module": "@jupyter-widgets/controls",
            "_model_module_version": "1.5.0",
            "_model_name": "ProgressStyleModel",
            "_view_count": null,
            "_view_module": "@jupyter-widgets/base",
            "_view_module_version": "1.2.0",
            "_view_name": "StyleView",
            "bar_color": null,
            "description_width": ""
          }
        },
        "fc14522acfad4ee6a17db5f01c43d0ab": {
          "model_module": "@jupyter-widgets/controls",
          "model_name": "VBoxModel",
          "model_module_version": "1.5.0",
          "state": {
            "_dom_classes": [],
            "_model_module": "@jupyter-widgets/controls",
            "_model_module_version": "1.5.0",
            "_model_name": "VBoxModel",
            "_view_count": null,
            "_view_module": "@jupyter-widgets/controls",
            "_view_module_version": "1.5.0",
            "_view_name": "VBoxView",
            "box_style": "",
            "children": [
              "IPY_MODEL_9bb101b987cf4d01ba1abbb960d3ecd6",
              "IPY_MODEL_e235f2602ff74756a6aeac54d5fd64b2"
            ],
            "layout": "IPY_MODEL_8b71bc3d208d4464bb69cdd12c75c796"
          }
        },
        "9bb101b987cf4d01ba1abbb960d3ecd6": {
          "model_module": "@jupyter-widgets/controls",
          "model_name": "HBoxModel",
          "model_module_version": "1.5.0",
          "state": {
            "_dom_classes": [],
            "_model_module": "@jupyter-widgets/controls",
            "_model_module_version": "1.5.0",
            "_model_name": "HBoxModel",
            "_view_count": null,
            "_view_module": "@jupyter-widgets/controls",
            "_view_module_version": "1.5.0",
            "_view_name": "HBoxView",
            "box_style": "",
            "children": [
              "IPY_MODEL_a24386c56984465f9f1a2779fc7093f9",
              "IPY_MODEL_abb0cf2e742246cb9f96f770432b40cd"
            ],
            "layout": "IPY_MODEL_07e5cf89ced74b5cb7810b07723ceabe"
          }
        },
        "8b71bc3d208d4464bb69cdd12c75c796": {
          "model_module": "@jupyter-widgets/base",
          "model_name": "LayoutModel",
          "model_module_version": "1.2.0",
          "state": {
            "_model_module": "@jupyter-widgets/base",
            "_model_module_version": "1.2.0",
            "_model_name": "LayoutModel",
            "_view_count": null,
            "_view_module": "@jupyter-widgets/base",
            "_view_module_version": "1.2.0",
            "_view_name": "LayoutView",
            "align_content": null,
            "align_items": null,
            "align_self": null,
            "border": null,
            "bottom": null,
            "display": null,
            "flex": null,
            "flex_flow": null,
            "grid_area": null,
            "grid_auto_columns": null,
            "grid_auto_flow": null,
            "grid_auto_rows": null,
            "grid_column": null,
            "grid_gap": null,
            "grid_row": null,
            "grid_template_areas": null,
            "grid_template_columns": null,
            "grid_template_rows": null,
            "height": null,
            "justify_content": null,
            "justify_items": null,
            "left": null,
            "margin": null,
            "max_height": null,
            "max_width": null,
            "min_height": null,
            "min_width": null,
            "object_fit": null,
            "object_position": null,
            "order": null,
            "overflow": null,
            "overflow_x": null,
            "overflow_y": null,
            "padding": null,
            "right": null,
            "top": null,
            "visibility": null,
            "width": null
          }
        },
        "abb0cf2e742246cb9f96f770432b40cd": {
          "model_module": "@jupyter-widgets/controls",
          "model_name": "HTMLModel",
          "model_module_version": "1.5.0",
          "state": {
            "_dom_classes": [],
            "_model_module": "@jupyter-widgets/controls",
            "_model_module_version": "1.5.0",
            "_model_name": "HTMLModel",
            "_view_count": null,
            "_view_module": "@jupyter-widgets/controls",
            "_view_module_version": "1.5.0",
            "_view_name": "HTMLView",
            "description": "",
            "description_tooltip": null,
            "layout": "IPY_MODEL_81c6e0ebb1a141848bd2e061058a0710",
            "placeholder": "​",
            "style": "IPY_MODEL_0b84fc2b07494315ba4ceb3be3bd0964",
            "value": "<h1 style='color:pink'> YOU WIN!</h1>"
          }
        },
        "07e5cf89ced74b5cb7810b07723ceabe": {
          "model_module": "@jupyter-widgets/base",
          "model_name": "LayoutModel",
          "model_module_version": "1.2.0",
          "state": {
            "_model_module": "@jupyter-widgets/base",
            "_model_module_version": "1.2.0",
            "_model_name": "LayoutModel",
            "_view_count": null,
            "_view_module": "@jupyter-widgets/base",
            "_view_module_version": "1.2.0",
            "_view_name": "LayoutView",
            "align_content": null,
            "align_items": null,
            "align_self": null,
            "border": null,
            "bottom": null,
            "display": null,
            "flex": null,
            "flex_flow": null,
            "grid_area": null,
            "grid_auto_columns": null,
            "grid_auto_flow": null,
            "grid_auto_rows": null,
            "grid_column": null,
            "grid_gap": null,
            "grid_row": null,
            "grid_template_areas": null,
            "grid_template_columns": null,
            "grid_template_rows": null,
            "height": null,
            "justify_content": null,
            "justify_items": null,
            "left": null,
            "margin": null,
            "max_height": null,
            "max_width": null,
            "min_height": null,
            "min_width": null,
            "object_fit": null,
            "object_position": null,
            "order": null,
            "overflow": null,
            "overflow_x": null,
            "overflow_y": null,
            "padding": null,
            "right": null,
            "top": null,
            "visibility": null,
            "width": null
          }
        },
        "81c6e0ebb1a141848bd2e061058a0710": {
          "model_module": "@jupyter-widgets/base",
          "model_name": "LayoutModel",
          "model_module_version": "1.2.0",
          "state": {
            "_model_module": "@jupyter-widgets/base",
            "_model_module_version": "1.2.0",
            "_model_name": "LayoutModel",
            "_view_count": null,
            "_view_module": "@jupyter-widgets/base",
            "_view_module_version": "1.2.0",
            "_view_name": "LayoutView",
            "align_content": null,
            "align_items": null,
            "align_self": null,
            "border": null,
            "bottom": null,
            "display": null,
            "flex": null,
            "flex_flow": null,
            "grid_area": null,
            "grid_auto_columns": null,
            "grid_auto_flow": null,
            "grid_auto_rows": null,
            "grid_column": null,
            "grid_gap": null,
            "grid_row": null,
            "grid_template_areas": null,
            "grid_template_columns": null,
            "grid_template_rows": null,
            "height": null,
            "justify_content": null,
            "justify_items": null,
            "left": null,
            "margin": null,
            "max_height": null,
            "max_width": null,
            "min_height": null,
            "min_width": null,
            "object_fit": null,
            "object_position": null,
            "order": null,
            "overflow": null,
            "overflow_x": null,
            "overflow_y": null,
            "padding": null,
            "right": null,
            "top": null,
            "visibility": "hidden",
            "width": null
          }
        },
        "0b84fc2b07494315ba4ceb3be3bd0964": {
          "model_module": "@jupyter-widgets/controls",
          "model_name": "DescriptionStyleModel",
          "model_module_version": "1.5.0",
          "state": {
            "_model_module": "@jupyter-widgets/controls",
            "_model_module_version": "1.5.0",
            "_model_name": "DescriptionStyleModel",
            "_view_count": null,
            "_view_module": "@jupyter-widgets/base",
            "_view_module_version": "1.2.0",
            "_view_name": "StyleView",
            "description_width": ""
          }
        },
        "f06ec24c2acf46279d896586f6672d3d": {
          "model_module": "@jupyter-widgets/controls",
          "model_name": "VBoxModel",
          "model_module_version": "1.5.0",
          "state": {
            "_dom_classes": [],
            "_model_module": "@jupyter-widgets/controls",
            "_model_module_version": "1.5.0",
            "_model_name": "VBoxModel",
            "_view_count": null,
            "_view_module": "@jupyter-widgets/controls",
            "_view_module_version": "1.5.0",
            "_view_name": "VBoxView",
            "box_style": "",
            "children": [
              "IPY_MODEL_1082d9b386da4aa6acb22ad809928e89",
              "IPY_MODEL_e235f2602ff74756a6aeac54d5fd64b2"
            ],
            "layout": "IPY_MODEL_bee09f2a01484c129267c21113fc4459"
          }
        },
        "1082d9b386da4aa6acb22ad809928e89": {
          "model_module": "@jupyter-widgets/controls",
          "model_name": "HBoxModel",
          "model_module_version": "1.5.0",
          "state": {
            "_dom_classes": [],
            "_model_module": "@jupyter-widgets/controls",
            "_model_module_version": "1.5.0",
            "_model_name": "HBoxModel",
            "_view_count": null,
            "_view_module": "@jupyter-widgets/controls",
            "_view_module_version": "1.5.0",
            "_view_name": "HBoxView",
            "box_style": "",
            "children": [
              "IPY_MODEL_fb8adcaec0fe4d1e8f3291531efc85a5",
              "IPY_MODEL_abb0cf2e742246cb9f96f770432b40cd"
            ],
            "layout": "IPY_MODEL_9297963607654fce930b5678486a55c6"
          }
        },
        "bee09f2a01484c129267c21113fc4459": {
          "model_module": "@jupyter-widgets/base",
          "model_name": "LayoutModel",
          "model_module_version": "1.2.0",
          "state": {
            "_model_module": "@jupyter-widgets/base",
            "_model_module_version": "1.2.0",
            "_model_name": "LayoutModel",
            "_view_count": null,
            "_view_module": "@jupyter-widgets/base",
            "_view_module_version": "1.2.0",
            "_view_name": "LayoutView",
            "align_content": null,
            "align_items": null,
            "align_self": null,
            "border": null,
            "bottom": null,
            "display": null,
            "flex": null,
            "flex_flow": null,
            "grid_area": null,
            "grid_auto_columns": null,
            "grid_auto_flow": null,
            "grid_auto_rows": null,
            "grid_column": null,
            "grid_gap": null,
            "grid_row": null,
            "grid_template_areas": null,
            "grid_template_columns": null,
            "grid_template_rows": null,
            "height": null,
            "justify_content": null,
            "justify_items": null,
            "left": null,
            "margin": null,
            "max_height": null,
            "max_width": null,
            "min_height": null,
            "min_width": null,
            "object_fit": null,
            "object_position": null,
            "order": null,
            "overflow": null,
            "overflow_x": null,
            "overflow_y": null,
            "padding": null,
            "right": null,
            "top": null,
            "visibility": null,
            "width": null
          }
        },
        "fb8adcaec0fe4d1e8f3291531efc85a5": {
          "model_module": "@jupyter-widgets/controls",
          "model_name": "VBoxModel",
          "model_module_version": "1.5.0",
          "state": {
            "_dom_classes": [],
            "_model_module": "@jupyter-widgets/controls",
            "_model_module_version": "1.5.0",
            "_model_name": "VBoxModel",
            "_view_count": null,
            "_view_module": "@jupyter-widgets/controls",
            "_view_module_version": "1.5.0",
            "_view_name": "VBoxView",
            "box_style": "",
            "children": [
              "IPY_MODEL_db11b99510a3488b887e93d192eafd65",
              "IPY_MODEL_c700a280dddb4ea9b4abb112179ef184"
            ],
            "layout": "IPY_MODEL_e2cf5504d1124b9388bbc1076ee0bbef"
          }
        },
        "9297963607654fce930b5678486a55c6": {
          "model_module": "@jupyter-widgets/base",
          "model_name": "LayoutModel",
          "model_module_version": "1.2.0",
          "state": {
            "_model_module": "@jupyter-widgets/base",
            "_model_module_version": "1.2.0",
            "_model_name": "LayoutModel",
            "_view_count": null,
            "_view_module": "@jupyter-widgets/base",
            "_view_module_version": "1.2.0",
            "_view_name": "LayoutView",
            "align_content": null,
            "align_items": null,
            "align_self": null,
            "border": null,
            "bottom": null,
            "display": null,
            "flex": null,
            "flex_flow": null,
            "grid_area": null,
            "grid_auto_columns": null,
            "grid_auto_flow": null,
            "grid_auto_rows": null,
            "grid_column": null,
            "grid_gap": null,
            "grid_row": null,
            "grid_template_areas": null,
            "grid_template_columns": null,
            "grid_template_rows": null,
            "height": null,
            "justify_content": null,
            "justify_items": null,
            "left": null,
            "margin": null,
            "max_height": null,
            "max_width": null,
            "min_height": null,
            "min_width": null,
            "object_fit": null,
            "object_position": null,
            "order": null,
            "overflow": null,
            "overflow_x": null,
            "overflow_y": null,
            "padding": null,
            "right": null,
            "top": null,
            "visibility": null,
            "width": null
          }
        },
        "e2cf5504d1124b9388bbc1076ee0bbef": {
          "model_module": "@jupyter-widgets/base",
          "model_name": "LayoutModel",
          "model_module_version": "1.2.0",
          "state": {
            "_model_module": "@jupyter-widgets/base",
            "_model_module_version": "1.2.0",
            "_model_name": "LayoutModel",
            "_view_count": null,
            "_view_module": "@jupyter-widgets/base",
            "_view_module_version": "1.2.0",
            "_view_name": "LayoutView",
            "align_content": null,
            "align_items": null,
            "align_self": null,
            "border": null,
            "bottom": null,
            "display": null,
            "flex": null,
            "flex_flow": null,
            "grid_area": null,
            "grid_auto_columns": null,
            "grid_auto_flow": null,
            "grid_auto_rows": null,
            "grid_column": null,
            "grid_gap": null,
            "grid_row": null,
            "grid_template_areas": null,
            "grid_template_columns": null,
            "grid_template_rows": null,
            "height": null,
            "justify_content": null,
            "justify_items": null,
            "left": null,
            "margin": null,
            "max_height": null,
            "max_width": null,
            "min_height": null,
            "min_width": null,
            "object_fit": null,
            "object_position": null,
            "order": null,
            "overflow": null,
            "overflow_x": null,
            "overflow_y": null,
            "padding": null,
            "right": null,
            "top": null,
            "visibility": null,
            "width": null
          }
        }
      }
    }
  },
  "cells": [
    {
      "cell_type": "markdown",
      "metadata": {
        "id": "view-in-github",
        "colab_type": "text"
      },
      "source": [
        "<a href=\"https://colab.research.google.com/github/nabilafatika/Game_Mind_Reader/blob/main/Game_Mind_Reader.ipynb\" target=\"_parent\"><img src=\"https://colab.research.google.com/assets/colab-badge.svg\" alt=\"Open In Colab\"/></a>"
      ]
    },
    {
      "cell_type": "markdown",
      "source": [
        "# **Game Mind Reader With Computer (Bot)**"
      ],
      "metadata": {
        "id": "mkLsmbRuRelc"
      }
    },
    {
      "cell_type": "markdown",
      "source": [
        "The game is a simple implementation of a mind reading game where the player competes against the computer (bot) to see who can reach a score of 5 first.\n"
      ],
      "metadata": {
        "id": "heDnNEVqR3xc"
      }
    },
    {
      "cell_type": "markdown",
      "source": [
        "* **Objective:** The objective of the game is to\n",
        "\n",
        "guess whether the next number chosen by the player and the bot will be 0 or 1.\n"
      ],
      "metadata": {
        "id": "AZqTIG5yTOwG"
      }
    },
    {
      "cell_type": "markdown",
      "source": [
        "* **Interface:** The game interface consists of two buttons labeled '0' and '1' for the player to make their choice. There is also a progress bar for both the player and the bot, indicating their current scores.\n"
      ],
      "metadata": {
        "id": "_bsyzJ1xTXtU"
      }
    },
    {
      "cell_type": "code",
      "execution_count": 1,
      "metadata": {
        "id": "1jRwLZIBgee2"
      },
      "outputs": [],
      "source": [
        "#import numpy\n",
        "from ipywidgets import*\n",
        "import numpy as np"
      ]
    },
    {
      "cell_type": "code",
      "source": [
        "# Define buttons\n",
        "btn_zero = Button( description='0')\n",
        "btn_one = Button( description='1')\n",
        "btn_reset = Button(description='Reset')\n",
        "btns = HBox([btn_zero, btn_one, btn_reset])\n",
        "\n",
        "btns"
      ],
      "metadata": {
        "colab": {
          "base_uri": "https://localhost:8080/",
          "height": 49,
          "referenced_widgets": [
            "e235f2602ff74756a6aeac54d5fd64b2",
            "57a425013dd14b13a0f92538830b1e8d",
            "c69704aef0f540f48f3e20d8d45bbbd6",
            "d6b0dbf4ae1e48c0b23bfd58e2628a7e",
            "2f9c68b90a3c412786eeabef162c6d33",
            "cbb6858f07a041c381bebf1c92af6c17",
            "67fad190ab0b430ab75068f439605311",
            "2c1147db9e4c42bb979cd092148d4887",
            "d482f83f7ac648e2b5481fe189ee6468",
            "be5ed421bb1248a588953c91bb07d313",
            "f479e267b7454c8c813a0738d7c12982"
          ]
        },
        "id": "wSMpFZJQg8NR",
        "outputId": "a73ed0ce-3c63-4e4e-b951-84d99328db08"
      },
      "execution_count": 2,
      "outputs": [
        {
          "output_type": "display_data",
          "data": {
            "text/plain": [
              "HBox(children=(Button(description='0', style=ButtonStyle()), Button(description='1', style=ButtonStyle()), But…"
            ],
            "application/vnd.jupyter.widget-view+json": {
              "version_major": 2,
              "version_minor": 0,
              "model_id": "e235f2602ff74756a6aeac54d5fd64b2"
            }
          },
          "metadata": {}
        }
      ]
    },
    {
      "cell_type": "code",
      "source": [
        "# Define user and bot scores\n",
        "usr_score = IntProgress( value=0, min=0, max=5, description='me:', bar_style='success')\n",
        "bot_score = IntProgress( value=0, min=0, max=5, description='bot:', bar_style='danger')\n",
        "scoreboard = VBox( [usr_score, bot_score])\n",
        "scoreboard"
      ],
      "metadata": {
        "colab": {
          "base_uri": "https://localhost:8080/",
          "height": 81,
          "referenced_widgets": [
            "a24386c56984465f9f1a2779fc7093f9",
            "db11b99510a3488b887e93d192eafd65",
            "c700a280dddb4ea9b4abb112179ef184",
            "2dcb895014f3457da7e90ec28e4acd10",
            "623f3a8d9fe444d99f35645d2b2e3938",
            "bb46be1fdcb343eeb2635d4b2ca367c1",
            "150191c2b07444abba8eaaa413d1a84b",
            "d2e7b8f5976340d5a7374d85889b79b7"
          ]
        },
        "id": "4e3PipXCjDd1",
        "outputId": "872676e3-c1ca-47be-d4d1-cba92a2357e9"
      },
      "execution_count": 3,
      "outputs": [
        {
          "output_type": "display_data",
          "data": {
            "text/plain": [
              "VBox(children=(IntProgress(value=0, bar_style='success', description='me:', max=5), IntProgress(value=0, bar_s…"
            ],
            "application/vnd.jupyter.widget-view+json": {
              "version_major": 2,
              "version_minor": 0,
              "model_id": "a24386c56984465f9f1a2779fc7093f9"
            }
          },
          "metadata": {}
        }
      ]
    },
    {
      "cell_type": "code",
      "source": [
        "# Define final message\n",
        "final_msg = HTML(\"<h1 style='color:pink'> YOU WIN!</h1>\")\n",
        "final_msg\n",
        "\n",
        "final_msg.layout.visibility = \"hidden\""
      ],
      "metadata": {
        "id": "EXfwtrvXk_sF"
      },
      "execution_count": 4,
      "outputs": []
    },
    {
      "cell_type": "code",
      "source": [
        "# Define game box\n",
        "game_box = VBox([ HBox([ scoreboard, final_msg]),\n",
        "                 btns\n",
        "                ])\n",
        "game_box"
      ],
      "metadata": {
        "colab": {
          "base_uri": "https://localhost:8080/",
          "height": 113,
          "referenced_widgets": [
            "fc14522acfad4ee6a17db5f01c43d0ab",
            "9bb101b987cf4d01ba1abbb960d3ecd6",
            "e235f2602ff74756a6aeac54d5fd64b2",
            "8b71bc3d208d4464bb69cdd12c75c796",
            "a24386c56984465f9f1a2779fc7093f9",
            "abb0cf2e742246cb9f96f770432b40cd",
            "07e5cf89ced74b5cb7810b07723ceabe",
            "57a425013dd14b13a0f92538830b1e8d",
            "c69704aef0f540f48f3e20d8d45bbbd6",
            "d6b0dbf4ae1e48c0b23bfd58e2628a7e",
            "2f9c68b90a3c412786eeabef162c6d33",
            "db11b99510a3488b887e93d192eafd65",
            "c700a280dddb4ea9b4abb112179ef184",
            "2dcb895014f3457da7e90ec28e4acd10",
            "81c6e0ebb1a141848bd2e061058a0710",
            "0b84fc2b07494315ba4ceb3be3bd0964",
            "cbb6858f07a041c381bebf1c92af6c17",
            "67fad190ab0b430ab75068f439605311",
            "2c1147db9e4c42bb979cd092148d4887",
            "d482f83f7ac648e2b5481fe189ee6468",
            "be5ed421bb1248a588953c91bb07d313",
            "f479e267b7454c8c813a0738d7c12982",
            "623f3a8d9fe444d99f35645d2b2e3938",
            "bb46be1fdcb343eeb2635d4b2ca367c1",
            "150191c2b07444abba8eaaa413d1a84b",
            "d2e7b8f5976340d5a7374d85889b79b7"
          ]
        },
        "id": "03RJlD6ZlqHw",
        "outputId": "574addb9-5393-4a8e-cdf4-b585fd3fb7cf"
      },
      "execution_count": 5,
      "outputs": [
        {
          "output_type": "display_data",
          "data": {
            "text/plain": [
              "VBox(children=(HBox(children=(VBox(children=(IntProgress(value=0, bar_style='success', description='me:', max=…"
            ],
            "application/vnd.jupyter.widget-view+json": {
              "version_major": 2,
              "version_minor": 0,
              "model_id": "fc14522acfad4ee6a17db5f01c43d0ab"
            }
          },
          "metadata": {}
        }
      ]
    },
    {
      "cell_type": "code",
      "source": [
        "# Define scoreboard and game box\n",
        "scoreboard = VBox([usr_score, bot_score])\n",
        "game_box = VBox([HBox([scoreboard, final_msg]), btns])"
      ],
      "metadata": {
        "id": "Y5UEcXgnPOe0"
      },
      "execution_count": 6,
      "outputs": []
    },
    {
      "cell_type": "code",
      "source": [
        "# def click_zero(b):\n",
        "#   update_game(0)\n",
        "# btn_zero.on_click( click_zero)"
      ],
      "metadata": {
        "id": "jT4WwiBeht-n"
      },
      "execution_count": 7,
      "outputs": []
    },
    {
      "cell_type": "code",
      "source": [
        "# def click_one(b):\n",
        "#   update_game(1)\n",
        "# btn_one.on_click( click_one)"
      ],
      "metadata": {
        "id": "8BM2G_yqiJV8"
      },
      "execution_count": 8,
      "outputs": []
    },
    {
      "cell_type": "code",
      "source": [
        "# Function to update game\n",
        "def update_game(usr_choice):\n",
        "    prob = sum(usr_history) / len(usr_history) if usr_history else 0.5\n",
        "    comp_choice = np.random.binomial(1, prob, 1)[0]\n",
        "    usr_history.append(usr_choice)\n",
        "\n",
        "    if comp_choice == usr_choice:\n",
        "        bot_score.value += 1\n",
        "    else:\n",
        "        usr_score.value += 1\n",
        "\n",
        "    if usr_score.value == 5 or bot_score.value == 5:\n",
        "        if usr_score.value == 5 and bot_score.value == 5:\n",
        "            final_msg.value = \"<h1 style='color:black'>DRAW!</h1>\"\n",
        "        else:\n",
        "            if bot_score.value == 5:\n",
        "                final_msg.value = \"<h1 style='color:black'>YOU LOSE!</h1>\"\n",
        "            else:\n",
        "                final_msg.value = \"<h1 style='color:pink'>YOU WIN!</h1>\"\n",
        "        final_msg.layout.visibility = \"visible\"\n",
        "        btn_zero.disabled = True\n",
        "        btn_one.disabled = True\n"
      ],
      "metadata": {
        "id": "ZrXTRxbvipc6"
      },
      "execution_count": 9,
      "outputs": []
    },
    {
      "cell_type": "code",
      "source": [
        "# Function to reset game\n",
        "def reset_game(b):\n",
        "    usr_score.value = 0\n",
        "    bot_score.value = 0\n",
        "    final_msg.layout.visibility = \"hidden\"\n",
        "    btn_zero.disabled = False\n",
        "    btn_one.disabled = False\n",
        "    usr_history.clear()"
      ],
      "metadata": {
        "id": "kCmV_QquM41O"
      },
      "execution_count": 10,
      "outputs": []
    },
    {
      "cell_type": "code",
      "source": [
        "# Event handlers\n",
        "btn_zero.on_click(lambda b: update_game(0))\n",
        "btn_one.on_click(lambda b: update_game(1))\n",
        "btn_reset.on_click(reset_game)"
      ],
      "metadata": {
        "id": "GFP45b2fQIaF"
      },
      "execution_count": 11,
      "outputs": []
    },
    {
      "cell_type": "code",
      "source": [
        "usr_history = []"
      ],
      "metadata": {
        "id": "Cp-Eq3VNmdPE"
      },
      "execution_count": 12,
      "outputs": []
    },
    {
      "cell_type": "code",
      "source": [
        "# usr_history.append(1)"
      ],
      "metadata": {
        "id": "Sv3eK6UhmruZ"
      },
      "execution_count": 13,
      "outputs": []
    },
    {
      "cell_type": "code",
      "source": [
        "# usr_history.append(0)"
      ],
      "metadata": {
        "id": "01DnZXqTm5LB"
      },
      "execution_count": 14,
      "outputs": []
    },
    {
      "cell_type": "code",
      "source": [
        "# usr_history"
      ],
      "metadata": {
        "id": "Fr-0_P5DmkgQ"
      },
      "execution_count": 15,
      "outputs": []
    },
    {
      "cell_type": "code",
      "source": [
        "# sum( usr_history)"
      ],
      "metadata": {
        "id": "-xYIuQh8nFRI"
      },
      "execution_count": 16,
      "outputs": []
    },
    {
      "cell_type": "code",
      "source": [
        "# len( usr_history)"
      ],
      "metadata": {
        "id": "vjRmeJdznMT7"
      },
      "execution_count": 17,
      "outputs": []
    },
    {
      "cell_type": "code",
      "source": [
        "# prob = sum(usr_history) / len(usr_history)\n",
        "# prob"
      ],
      "metadata": {
        "id": "v98twoNsnSIO"
      },
      "execution_count": 18,
      "outputs": []
    },
    {
      "cell_type": "code",
      "source": [
        "# comp_choice = np.random.binomial(1,prob)\n",
        "# comp_choice"
      ],
      "metadata": {
        "id": "db7CM1Ocnd78"
      },
      "execution_count": 19,
      "outputs": []
    },
    {
      "cell_type": "markdown",
      "source": [
        "# **Here's how the game works:**"
      ],
      "metadata": {
        "id": "n7csXeZVFDGW"
      }
    },
    {
      "cell_type": "markdown",
      "source": [
        "  **Gameplay:**\n",
        "* The player clicks either the '0' or '1' button to make their choice.\n",
        "* The computer (bot) randomly chooses either 0 or 1.\n",
        "* If the player's choice matches the bot's choice, the bot's score increases by 1.\n",
        "* If the player's choice does not match the bot's choice, the player's score increases by 1.\n",
        "* The game continues until either the player or the bot reaches a score of 5.\n"
      ],
      "metadata": {
        "id": "Ouh9a3bQD-RF"
      }
    },
    {
      "cell_type": "markdown",
      "source": [
        "  **Winning Condition:**\n",
        "* If the player reaches a score of 5 first, they win, and a winning message appears.\n",
        "* If the bot reaches a score of 5 first, the player loses, and a losing message appears.\n",
        "* If both the player and the bot reach a score of 5 at the same time, the game ends in a draw, and a draw message appears.\n"
      ],
      "metadata": {
        "id": "HUVuvC9-ECjQ"
      }
    },
    {
      "cell_type": "markdown",
      "source": [
        " **Reset Button:** There is also a 'Reset' button available to restart the game after it has ended."
      ],
      "metadata": {
        "id": "ymCR4PPMEIwz"
      }
    },
    {
      "cell_type": "code",
      "source": [
        "display(game_box)"
      ],
      "metadata": {
        "colab": {
          "base_uri": "https://localhost:8080/",
          "height": 113,
          "referenced_widgets": [
            "f06ec24c2acf46279d896586f6672d3d",
            "1082d9b386da4aa6acb22ad809928e89",
            "e235f2602ff74756a6aeac54d5fd64b2",
            "bee09f2a01484c129267c21113fc4459",
            "fb8adcaec0fe4d1e8f3291531efc85a5",
            "abb0cf2e742246cb9f96f770432b40cd",
            "9297963607654fce930b5678486a55c6",
            "57a425013dd14b13a0f92538830b1e8d",
            "c69704aef0f540f48f3e20d8d45bbbd6",
            "d6b0dbf4ae1e48c0b23bfd58e2628a7e",
            "2f9c68b90a3c412786eeabef162c6d33",
            "db11b99510a3488b887e93d192eafd65",
            "c700a280dddb4ea9b4abb112179ef184",
            "e2cf5504d1124b9388bbc1076ee0bbef",
            "81c6e0ebb1a141848bd2e061058a0710",
            "0b84fc2b07494315ba4ceb3be3bd0964",
            "cbb6858f07a041c381bebf1c92af6c17",
            "67fad190ab0b430ab75068f439605311",
            "2c1147db9e4c42bb979cd092148d4887",
            "d482f83f7ac648e2b5481fe189ee6468",
            "be5ed421bb1248a588953c91bb07d313",
            "f479e267b7454c8c813a0738d7c12982",
            "623f3a8d9fe444d99f35645d2b2e3938",
            "bb46be1fdcb343eeb2635d4b2ca367c1",
            "150191c2b07444abba8eaaa413d1a84b",
            "d2e7b8f5976340d5a7374d85889b79b7"
          ]
        },
        "id": "AohTK-S4rpCH",
        "outputId": "5a8b0ab9-7922-45e9-fd82-c86c861cb4a4"
      },
      "execution_count": 20,
      "outputs": [
        {
          "output_type": "display_data",
          "data": {
            "text/plain": [
              "VBox(children=(HBox(children=(VBox(children=(IntProgress(value=0, bar_style='success', description='me:', max=…"
            ],
            "application/vnd.jupyter.widget-view+json": {
              "version_major": 2,
              "version_minor": 0,
              "model_id": "f06ec24c2acf46279d896586f6672d3d"
            }
          },
          "metadata": {}
        }
      ]
    },
    {
      "cell_type": "markdown",
      "source": [
        "This project is a component of my coursework for the Artificial Intelligence course during my college years. The game offers an engaging and interactive platform for testing predictive algorithms and human-computer interaction dynamics. Players compete against a computer opponent, leveraging both strategy and chance to reach the target score first. This project exemplifies the practical application of AI principles in game development, providing an insightful exploration of machine learning techniques and their real-world implementations.\n",
        "\n",
        "Nabila Fatika - 2024"
      ],
      "metadata": {
        "id": "cwkpkRllTqW5"
      }
    }
  ]
}